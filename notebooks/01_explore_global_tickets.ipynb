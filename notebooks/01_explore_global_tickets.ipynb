{
 "cells": [
  {
   "cell_type": "markdown",
   "metadata": {},
   "source": [
    "# Exploring All Geounit Revenue from Submitted Tickets\n",
    "\n",
    "This notebook analyzes All Geounits revenue from the tickets submited in the system month by month using the global tickets WLES operations data."
   ]
  },
  {
   "cell_type": "code",
   "execution_count": null,
   "metadata": {},
   "outputs": [],
   "source": [
    "import pandas as pd\n",
    "import matplotlib.pyplot as plt\n",
    "import seaborn as sns\n",
    "import sys\n",
    "import os\n",
    "sys.path.append(os.path.abspath(os.path.join(os.getcwd(), '..')))\n",
    "\n",
    "%matplotlib inline\n",
    "\n",
    "# Set Seaborn style\n",
    "sns.set_style(\"whitegrid\")  # You can choose any Seaborn style such as \"darkgrid\", \"white\", \"dark\", \"ticks\"\n"
   ]
  },
  {
   "cell_type": "markdown",
   "metadata": {},
   "source": [
    "## Data Loading and Initial Exploration\n",
    "\n",
    "Let's load the data and take a look at its structure and content."
   ]
  },
  {
   "cell_type": "code",
   "execution_count": null,
   "metadata": {},
   "outputs": [],
   "source": [
    "# Load the data\n",
    "df = pd.read_csv('../raw_data/global_tickets_wles_ops_data.csv')\n",
    "\n",
    "# Display the first few rows and data info\n",
    "print(df.head())\n",
    "print(\"\\nDataset Info:\")\n",
    "df.info()"
   ]
  },
  {
   "cell_type": "markdown",
   "metadata": {},
   "source": [
    "# Exploring Job Type Codes\n",
    "\n",
    "In this section, we'll analyze the 'Job Type code' column to better understand the distribution of different job types in our dataset. This analysis will help us:\n",
    "\n",
    "1. Identify the unique job types present in the data\n",
    "2. Determine the frequency of each job type\n",
    "3. Calculate the percentage distribution of job types\n",
    "4. Visualize the distribution using bar plots and pie charts\n",
    "\n",
    "This exploration will provide insights into the variety of jobs represented in our dataset and their relative prevalence, which could be crucial for understanding the nature of the work being performed and potentially identifying any imbalances or patterns in job type distribution."
   ]
  },
  {
   "cell_type": "code",
   "execution_count": null,
   "metadata": {},
   "outputs": [],
   "source": [
    "# Explore unique values in Job Type code column\n",
    "\n",
    "# Get unique Job Type codes\n",
    "job_types = df['Job Type code'].unique()\n",
    "\n",
    "# Count occurrences of each Job Type code\n",
    "job_type_counts = df['Job Type code'].value_counts()\n",
    "\n",
    "print(f\"Number of unique Job Type codes: {len(job_types)}\")\n",
    "print(\"\\nUnique Job Type codes:\")\n",
    "print(job_types)\n",
    "\n",
    "print(\"\\nJob Type code counts:\")\n",
    "print(job_type_counts)\n",
    "\n",
    "# Calculate percentage of each Job Type code\n",
    "job_type_percentages = (job_type_counts / len(df) * 100).round(2)\n",
    "\n",
    "print(\"\\nJob Type code percentages:\")\n",
    "print(job_type_percentages)\n",
    "\n",
    "# Create a bar plot of Job Type code counts\n",
    "plt.figure(figsize=(12, 6))\n",
    "job_type_counts.plot(kind='bar')\n",
    "plt.title('Count of Job Type Codes')\n",
    "plt.xlabel('Job Type Code')\n",
    "plt.ylabel('Count')\n",
    "plt.xticks(rotation=45, ha='right')\n",
    "plt.tight_layout()\n",
    "plt.show()\n",
    "\n",
    "# Create a pie chart of Job Type code percentages\n",
    "plt.figure(figsize=(10, 10))\n",
    "plt.pie(job_type_percentages, labels=job_type_percentages.index, autopct='%1.1f%%')\n",
    "plt.title('Distribution of Job Type Codes')\n",
    "plt.axis('equal')\n",
    "plt.show()"
   ]
  },
  {
   "cell_type": "markdown",
   "metadata": {},
   "source": [
    "## Data Preprocessing\n",
    "\n",
    "Now, let's preprocess the data to prepare it for our analysis:\n",
    "1. Convert date columns to datetime format\n",
    "2. Extract month and year from the end date, applying the following rule:\n",
    "   - If the date is from the 1st to the 25th (inclusive), use that month\n",
    "   - If the date is from the 26th onwards, use the subsequent month\n",
    "3. Group the data by Geounit and Month-Year, summing the revenue"
   ]
  },
  {
   "cell_type": "code",
   "execution_count": null,
   "metadata": {},
   "outputs": [],
   "source": [
    "# Data Preprocessing\n",
    "\n",
    "# Import the preprocessing function\n",
    "import importlib\n",
    "import utils.revenue_data_preprocessing as rdp\n",
    "importlib.reload(rdp)\n",
    "print(dir(rdp))\n",
    "\n",
    "# Apply the preprocessing function\n",
    "df = rdp.preprocess_tickets_data(df)\n",
    "\n",
    "# 3. Group the data by Geounit and Month-Year, summing the revenue\n",
    "grouped_data = df.groupby(['Sl Geounit (Code)', pd.Grouper(key='Adjusted Date', freq='MS')])['Field Ticket USD net value'].sum().reset_index()\n",
    "\n",
    "# Rename columns for clarity\n",
    "grouped_data.columns = ['Geounit', 'Date', 'Revenue']\n",
    "\n",
    "# Sort the data by Geounit and Date\n",
    "grouped_data = grouped_data.sort_values(['Geounit', 'Date'])\n",
    "\n",
    "# Display the first few rows of the processed data\n",
    "print(grouped_data.head(10))\n",
    "\n",
    "# Display summary statistics\n",
    "print(\"\\nSummary Statistics:\")\n",
    "print(grouped_data.describe())\n",
    "\n",
    "# Check for any missing values\n",
    "print(\"\\nMissing Values:\")\n",
    "print(grouped_data.isnull().sum())"
   ]
  },
  {
   "cell_type": "markdown",
   "metadata": {},
   "source": [
    "## Visualization: Monthly Revenue by Geounit\n",
    "\n",
    "Let's create a line plot to visualize the monthly revenue trends for each Geounit."
   ]
  },
  {
   "cell_type": "code",
   "execution_count": null,
   "metadata": {},
   "outputs": [],
   "source": [
    "import ipywidgets as widgets\n",
    "from ipywidgets import interact\n",
    "\n",
    "# Function to plot revenue over time for selected geounits\n",
    "def plot_revenue_over_time(selected_geounits):\n",
    "    plt.figure(figsize=(15, 8))\n",
    "    \n",
    "    for geounit in selected_geounits:\n",
    "        data = grouped_data[grouped_data['Geounit'] == geounit]\n",
    "        plt.plot(data['Date'], data['Revenue'], label=geounit)\n",
    "    \n",
    "    plt.title('Revenue Over Time by Geounit', fontsize=16)\n",
    "    plt.xlabel('Date', fontsize=12)\n",
    "    plt.ylabel('Revenue (USD)', fontsize=12)\n",
    "    plt.legend(title='Geounit', bbox_to_anchor=(1.05, 1), loc='upper left')\n",
    "    plt.grid(True, linestyle='--', alpha=0.7)\n",
    "    plt.xticks(rotation=45)\n",
    "    plt.tight_layout()\n",
    "    plt.show()\n",
    "\n",
    "# Get unique geounits\n",
    "geounits = sorted(grouped_data['Geounit'].unique())\n",
    "\n",
    "# Create multi-select widget\n",
    "geounit_selector = widgets.SelectMultiple(\n",
    "    options=geounits,\n",
    "    value=[geounits[0]],  # Default to first geounit\n",
    "    description='Geounits:',\n",
    "    disabled=False\n",
    ")\n",
    "\n",
    "# Create interactive plot\n",
    "interact(plot_revenue_over_time, selected_geounits=geounit_selector)\n",
    "\n",
    "# Display summary statistics for all geounits\n",
    "print(\"Summary Statistics by Geounit:\")\n",
    "summary_stats = grouped_data.groupby('Geounit')['Revenue'].agg(['mean', 'median', 'min', 'max']).round(2)\n",
    "summary_stats.columns = ['Mean Revenue', 'Median Revenue', 'Min Revenue', 'Max Revenue']\n",
    "display(summary_stats)"
   ]
  },
  {
   "cell_type": "markdown",
   "metadata": {},
   "source": [
    "## Analysis\n",
    "\n",
    "From the plot above, we can observe the following:\n",
    "\n",
    "1. Different Geounits have varying levels of revenue.\n",
    "2. Some Geounits show more volatility in their monthly revenue than others.\n",
    "3. There might be seasonal patterns or trends for certain Geounits.\n",
    "\n",
    "To further analyze this data, we could:\n",
    "- Calculate and compare the average monthly revenue for each Geounit\n",
    "- Identify the top-performing Geounits\n",
    "- Analyze the revenue trends over time for specific Geounits of interest\n",
    "- Investigate any correlation between revenue and other variables in the dataset"
   ]
  }
 ],
 "metadata": {
  "kernelspec": {
   "display_name": ".venv",
   "language": "python",
   "name": "python3"
  },
  "language_info": {
   "codemirror_mode": {
    "name": "ipython",
    "version": 3
   },
   "file_extension": ".py",
   "mimetype": "text/x-python",
   "name": "python",
   "nbconvert_exporter": "python",
   "pygments_lexer": "ipython3",
   "version": "3.12.1"
  }
 },
 "nbformat": 4,
 "nbformat_minor": 2
}
